{
  "nbformat": 4,
  "nbformat_minor": 0,
  "metadata": {
    "colab": {
      "name": "Graphs Std.ipynb",
      "provenance": [],
      "collapsed_sections": [],
      "toc_visible": true
    },
    "kernelspec": {
      "name": "python3",
      "display_name": "Python 3"
    },
    "language_info": {
      "name": "python"
    }
  },
  "cells": [
    {
      "cell_type": "code",
      "metadata": {
        "id": "8pe2UNXwfQQZ"
      },
      "source": [
        "import numpy as np\n",
        "import cv2\n",
        "import matplotlib.pyplot as plt"
      ],
      "execution_count": null,
      "outputs": []
    },
    {
      "cell_type": "code",
      "metadata": {
        "id": "vYVHMiERfWN6"
      },
      "source": [
        "import pywt"
      ],
      "execution_count": null,
      "outputs": []
    },
    {
      "cell_type": "code",
      "metadata": {
        "id": "NZ_EXP5AfdY3"
      },
      "source": [
        "ip_image = cv2.imread('img_72.jpeg',0)"
      ],
      "execution_count": null,
      "outputs": []
    },
    {
      "cell_type": "code",
      "metadata": {
        "colab": {
          "base_uri": "https://localhost:8080/"
        },
        "id": "7DIG4Yszf9Qv",
        "outputId": "f7ab0ac7-1d55-4724-9c81-8765ebdbdc0a"
      },
      "source": [
        "ip_image.shape"
      ],
      "execution_count": null,
      "outputs": [
        {
          "output_type": "execute_result",
          "data": {
            "text/plain": [
              "(48, 48)"
            ]
          },
          "metadata": {
            "tags": []
          },
          "execution_count": 4
        }
      ]
    },
    {
      "cell_type": "markdown",
      "metadata": {
        "id": "1qLxbeqIPTs2"
      },
      "source": [
        "# FFT"
      ]
    },
    {
      "cell_type": "code",
      "metadata": {
        "id": "Lgwvvos6xH-z"
      },
      "source": [
        "fft_output = np.fft.fft2(ip_image)"
      ],
      "execution_count": null,
      "outputs": []
    },
    {
      "cell_type": "code",
      "metadata": {
        "id": "zjiNBktVxvQv"
      },
      "source": [
        "abs_val = abs(fft_output)"
      ],
      "execution_count": null,
      "outputs": []
    },
    {
      "cell_type": "code",
      "metadata": {
        "id": "P9Txuem9xx9y"
      },
      "source": [
        "fval = abs_val.astype('int')"
      ],
      "execution_count": null,
      "outputs": []
    },
    {
      "cell_type": "code",
      "metadata": {
        "colab": {
          "base_uri": "https://localhost:8080/"
        },
        "id": "ssV_1iDAx14h",
        "outputId": "37100940-3dc7-40cd-88ea-e1decdc3b666"
      },
      "source": [
        "np.std(fval)"
      ],
      "execution_count": null,
      "outputs": [
        {
          "output_type": "execute_result",
          "data": {
            "text/plain": [
              "6439.531246819478"
            ]
          },
          "metadata": {
            "tags": []
          },
          "execution_count": 8
        }
      ]
    },
    {
      "cell_type": "markdown",
      "metadata": {
        "id": "WHdXQ7a-PYmd"
      },
      "source": [
        "# DWT"
      ]
    },
    {
      "cell_type": "code",
      "metadata": {
        "id": "Jc2_QlHgx3Xf"
      },
      "source": [
        "coeffs = pywt.dwt2(ip_image, 'db3', mode = 'periodization')"
      ],
      "execution_count": null,
      "outputs": []
    },
    {
      "cell_type": "code",
      "metadata": {
        "id": "XpGJqy5POXyD"
      },
      "source": [
        "cA, (cH, cV, cD) = coeffs # Extracting coefficients"
      ],
      "execution_count": null,
      "outputs": []
    },
    {
      "cell_type": "code",
      "metadata": {
        "id": "4hJS44XuPlCg"
      },
      "source": [
        "abs_val = abs(cA)"
      ],
      "execution_count": null,
      "outputs": []
    },
    {
      "cell_type": "code",
      "metadata": {
        "id": "kdRWtm3KPpxL"
      },
      "source": [
        "fval = abs_val.astype('int')"
      ],
      "execution_count": null,
      "outputs": []
    },
    {
      "cell_type": "code",
      "metadata": {
        "colab": {
          "base_uri": "https://localhost:8080/"
        },
        "id": "DpA_XaYaPtMQ",
        "outputId": "5ac4353a-f2ae-4a25-8cae-a15f44880d84"
      },
      "source": [
        "np.std(fval)"
      ],
      "execution_count": null,
      "outputs": [
        {
          "output_type": "execute_result",
          "data": {
            "text/plain": [
              "13.80814332372789"
            ]
          },
          "metadata": {
            "tags": []
          },
          "execution_count": 13
        }
      ]
    },
    {
      "cell_type": "markdown",
      "metadata": {
        "id": "Lzuw-daKPz0P"
      },
      "source": [
        "# DCT"
      ]
    },
    {
      "cell_type": "code",
      "metadata": {
        "id": "Aqwi91XpPvkh"
      },
      "source": [
        "src_img_1 = ip_image.astype('float')"
      ],
      "execution_count": null,
      "outputs": []
    },
    {
      "cell_type": "code",
      "metadata": {
        "id": "KkCFqWMXP-zD"
      },
      "source": [
        "img_dct = cv2.dct(src_img_1)"
      ],
      "execution_count": null,
      "outputs": []
    },
    {
      "cell_type": "code",
      "metadata": {
        "id": "Cx2KvBZGQCqJ"
      },
      "source": [
        "abs_val = abs(img_dct)"
      ],
      "execution_count": null,
      "outputs": []
    },
    {
      "cell_type": "code",
      "metadata": {
        "id": "9RBn1c4zQJgf"
      },
      "source": [
        "fval = abs_val.astype('int')"
      ],
      "execution_count": null,
      "outputs": []
    },
    {
      "cell_type": "code",
      "metadata": {
        "colab": {
          "base_uri": "https://localhost:8080/"
        },
        "id": "zZvIDILLQM5E",
        "outputId": "3447c29c-084d-4a87-e873-91a13de3618c"
      },
      "source": [
        "np.std(fval)"
      ],
      "execution_count": null,
      "outputs": [
        {
          "output_type": "execute_result",
          "data": {
            "text/plain": [
              "134.1761928331224"
            ]
          },
          "metadata": {
            "tags": []
          },
          "execution_count": 18
        }
      ]
    },
    {
      "cell_type": "code",
      "metadata": {
        "id": "IUNxRA9EQO7z"
      },
      "source": [
        ""
      ],
      "execution_count": null,
      "outputs": []
    }
  ]
}